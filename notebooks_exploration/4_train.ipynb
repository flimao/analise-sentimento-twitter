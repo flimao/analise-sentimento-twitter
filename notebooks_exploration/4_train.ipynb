{
 "cells": [
  {
   "cell_type": "markdown",
   "metadata": {},
   "source": [
    "# 4 - Treinamento de modelos\n",
    "\n",
    "Nessa fase, treinaremos os modelos classificadores candidatos. \n",
    "\n",
    "Nessa etapa o problema se torna semelhante aos modelos de ML tradicionais: testaremos diversos classificadores como *RandomForest*, *AdaBoost*, entre outros, e otimizaremos também os hiperparâmetros do modelo com técnicas como a *GridSearch* e a *RandomizedSearch*."
   ]
  },
  {
   "cell_type": "code",
   "execution_count": 1,
   "metadata": {},
   "outputs": [],
   "source": [
    "# caminho para instalação do pacote mltoolkit, com metricas e gráficos personalizados\n",
    "# !pip install git+ssh://git@github.com/flimao/mltoolkit"
   ]
  },
  {
   "cell_type": "code",
   "execution_count": 2,
   "metadata": {},
   "outputs": [],
   "source": [
    "import pandas as pd\n",
    "import numpy as np\n",
    "from matplotlib import rcParams, rcParamsDefault, pyplot as plt\n",
    "import seaborn as sns\n",
    "from mltoolkit import metrics, plots, NLP\n",
    "import spacy\n",
    "from tqdm import tqdm\n",
    "\n",
    "rcParams.update(rcParamsDefault)\n",
    "rcParams['figure.dpi'] = 120\n",
    "rcParams['figure.figsize'] = (10, 8)\n",
    "\n",
    "tqdm.pandas()"
   ]
  },
  {
   "cell_type": "code",
   "execution_count": 3,
   "metadata": {},
   "outputs": [],
   "source": [
    "# !python -m spacy download pt_core_news_lg\n",
    "# !python -m spacy download pt_core_news_md\n",
    "# !python -m spacy download pt_core_news_sm\n",
    "nlp = spacy.load(\"pt_core_news_lg\")"
   ]
  },
  {
   "cell_type": "markdown",
   "metadata": {},
   "source": [
    "## Importação dos dados\n",
    "\n",
    "Primeiramente, importamos os dados e aplicamos as transformações utilizadas na fase anterior:"
   ]
  },
  {
   "cell_type": "code",
   "execution_count": 4,
   "metadata": {},
   "outputs": [],
   "source": [
    "# não tocaremos no conjunto de submissão\n",
    "\n",
    "tweets_raw = pd.read_csv(\n",
    "    r'../data/Train3Classes.csv',\n",
    ")"
   ]
  },
  {
   "cell_type": "code",
   "execution_count": 5,
   "metadata": {},
   "outputs": [],
   "source": [
    "# trocar tipos para acelerar o processamento (menos espaço em memória)\n",
    "# e ativar possíveis otimizações internas ao pandas para certos tipos\n",
    "def mudar_tipos(df):\n",
    "    df = df.copy()\n",
    "\n",
    "    df['id'] = df['id'].astype('string')\n",
    "    df['tweet_date'] = pd.to_datetime(df['tweet_date'])\n",
    "    df['sentiment'] = df['sentiment'].astype('category')\n",
    "\n",
    "    return df\n",
    "\n",
    "def remover_duplicatas(df):\n",
    "    df = df.copy()\n",
    "\n",
    "    df = df.drop_duplicates(subset = 'id')\n",
    "\n",
    "    return df\n",
    "\n",
    "# o índice é o id, visto que não há repetidos\n",
    "# vantagem: o índice é removido automaticamente quando separamos em base de treino e teste.\n",
    "def setar_index(df):\n",
    "    df = df.copy()\n",
    "\n",
    "    df = df.set_index('id')\n",
    "\n",
    "    return df\n",
    "\n",
    "tweets_full = (tweets_raw\n",
    "    .pipe(mudar_tipos)\n",
    "    .pipe(remover_duplicatas)\n",
    "    .pipe(setar_index)\n",
    ")"
   ]
  },
  {
   "cell_type": "markdown",
   "metadata": {},
   "source": [
    "## Pré-processamento de texto\n",
    "\n",
    "Vamos então implementar o pré-processamento do texto da fase anterior (Análise Exploratória de Texto).\n",
    "\n",
    "Primeiramente vamos importar as *stopwords*:"
   ]
  },
  {
   "cell_type": "code",
   "execution_count": 6,
   "metadata": {},
   "outputs": [],
   "source": [
    "with open(r'../data/stopwords_alopes.txt', encoding = 'utf8') as stopword_list:\n",
    "    lst = stopword_list.read().splitlines()\n",
    "\n",
    "stopwords_alopes = set([ stopword.strip() for stopword in lst ])\n",
    "\n",
    "# em uma análise de sentimento, não queremos remover palavras com conotação negativa\n",
    "remover_stopwords = {\n",
    "    'não', \n",
    "}\n",
    "\n",
    "stopwords_alopes -= remover_stopwords"
   ]
  },
  {
   "cell_type": "code",
   "execution_count": 7,
   "metadata": {},
   "outputs": [],
   "source": [
    "preprocessing_full = lambda s: NLP.preprocessing(s, preproc_funs_args = [\n",
    "    NLP.remove_links,\n",
    "    NLP.remove_hashtags,\n",
    "    NLP.remove_mentions,\n",
    "    NLP.remove_numbers,\n",
    "    NLP.remove_special_caract,\n",
    "    NLP.lowercase,\n",
    "    #remove_punkt,\n",
    "    #(remove_stopwords, dict(stopword_list = stopword_list_alopes)),\n",
    "    (NLP.tokenize_remove_stopwords_get_radicals_spacy, dict(\n",
    "        nlp = nlp,\n",
    "        stopword_list = stopwords_alopes,\n",
    "    )),\n",
    "])"
   ]
  },
  {
   "cell_type": "markdown",
   "metadata": {},
   "source": [
    "Vamos então aplicar esse pré-processamento a uma amostra da base de *tweets* (para podermos iterar rapidamente caso necessário). \n",
    "\n",
    "Em um momento posterior, treinaremos a base completa."
   ]
  },
  {
   "cell_type": "code",
   "execution_count": 8,
   "metadata": {},
   "outputs": [
    {
     "name": "stderr",
     "output_type": "stream",
     "text": [
      "100%|██████████| 5000/5000 [00:41<00:00, 119.27it/s]\n"
     ]
    }
   ],
   "source": [
    "amostra_eda = 5000\n",
    "radicais = tweets_full.sample(amostra_eda)['tweet_text'].progress_apply(preprocessing_full)\n",
    "\n",
    "tweets = tweets_full.copy()\n",
    "tweets['radicais'] = radicais\n",
    "tweets = tweets[tweets.radicais.notna()]"
   ]
  },
  {
   "cell_type": "code",
   "execution_count": 87,
   "metadata": {},
   "outputs": [
    {
     "data": {
      "text/html": [
       "<div>\n",
       "<style scoped>\n",
       "    .dataframe tbody tr th:only-of-type {\n",
       "        vertical-align: middle;\n",
       "    }\n",
       "\n",
       "    .dataframe tbody tr th {\n",
       "        vertical-align: top;\n",
       "    }\n",
       "\n",
       "    .dataframe thead th {\n",
       "        text-align: right;\n",
       "    }\n",
       "</style>\n",
       "<table border=\"1\" class=\"dataframe\">\n",
       "  <thead>\n",
       "    <tr style=\"text-align: right;\">\n",
       "      <th></th>\n",
       "      <th>tweet_text</th>\n",
       "      <th>tweet_date</th>\n",
       "      <th>sentiment</th>\n",
       "      <th>query_used</th>\n",
       "      <th>radicais</th>\n",
       "    </tr>\n",
       "    <tr>\n",
       "      <th>id</th>\n",
       "      <th></th>\n",
       "      <th></th>\n",
       "      <th></th>\n",
       "      <th></th>\n",
       "      <th></th>\n",
       "    </tr>\n",
       "  </thead>\n",
       "  <tbody>\n",
       "    <tr>\n",
       "      <th>1047035308938792968</th>\n",
       "      <td>@bybaekbyun @ahniyxd apa c qmo :(</td>\n",
       "      <td>2018-10-02 08:07:25+00:00</td>\n",
       "      <td>0</td>\n",
       "      <td>:(</td>\n",
       "      <td>apa c qmo</td>\n",
       "    </tr>\n",
       "    <tr>\n",
       "      <th>1049165592886796288</th>\n",
       "      <td>@AnnaPaolaOrtega Felicidades!! :)</td>\n",
       "      <td>2018-10-08 05:12:24+00:00</td>\n",
       "      <td>1</td>\n",
       "      <td>:)</td>\n",
       "      <td>felicidade</td>\n",
       "    </tr>\n",
       "    <tr>\n",
       "      <th>1043950366906298369</th>\n",
       "      <td>Surfistas homenageiam brasileiro morto por tub...</td>\n",
       "      <td>2018-09-23 19:48:57+00:00</td>\n",
       "      <td>2</td>\n",
       "      <td>g1</td>\n",
       "      <td>surfista homenagear brasileiro morto tubarao eua</td>\n",
       "    </tr>\n",
       "    <tr>\n",
       "      <th>1046239935949406208</th>\n",
       "      <td>@jccguk ele oarece uma criancinha ne :( meu be...</td>\n",
       "      <td>2018-09-30 03:26:53+00:00</td>\n",
       "      <td>0</td>\n",
       "      <td>:(</td>\n",
       "      <td>oarece criança ne bebé ai to muiro triste ana ...</td>\n",
       "    </tr>\n",
       "    <tr>\n",
       "      <th>1046761233750339584</th>\n",
       "      <td>@angelaalacchi Nada, a mandar. :))</td>\n",
       "      <td>2018-10-01 13:58:20+00:00</td>\n",
       "      <td>1</td>\n",
       "      <td>:)</td>\n",
       "      <td>mandar</td>\n",
       "    </tr>\n",
       "    <tr>\n",
       "      <th>1046269541175742464</th>\n",
       "      <td>@RafaeIVB Isso! Uhuuul,vamos votar tudo no Had...</td>\n",
       "      <td>2018-09-30 05:24:32+00:00</td>\n",
       "      <td>1</td>\n",
       "      <td>:)</td>\n",
       "      <td>uhuuul ir votar haddad brasil ir pra puta parir d</td>\n",
       "    </tr>\n",
       "    <tr>\n",
       "      <th>1045499441875222528</th>\n",
       "      <td>a bruna já virou jikooka falta ela entrar pra ...</td>\n",
       "      <td>2018-09-28 02:24:26+00:00</td>\n",
       "      <td>1</td>\n",
       "      <td>:)</td>\n",
       "      <td>bruno ja virar jikooka entrar pra fandom to</td>\n",
       "    </tr>\n",
       "    <tr>\n",
       "      <th>1046749860500652033</th>\n",
       "      <td>gente você acredita que um dia vai ser amada t...</td>\n",
       "      <td>2018-10-01 13:13:09+00:00</td>\n",
       "      <td>0</td>\n",
       "      <td>:(</td>\n",
       "      <td>gente voce acreditar dia amar totalmente pesso...</td>\n",
       "    </tr>\n",
       "    <tr>\n",
       "      <th>1046923727110377472</th>\n",
       "      <td>Nossa o hyuck n é? :( https://t.co/HBfS3CZoRb</td>\n",
       "      <td>2018-10-02 00:44:02+00:00</td>\n",
       "      <td>0</td>\n",
       "      <td>:(</td>\n",
       "      <td>hyuck n</td>\n",
       "    </tr>\n",
       "    <tr>\n",
       "      <th>1040477428366368768</th>\n",
       "      <td>@adeIeswiftie Todo retardado e retardada fraca...</td>\n",
       "      <td>2018-09-14 05:48:44+00:00</td>\n",
       "      <td>2</td>\n",
       "      <td>#fato</td>\n",
       "      <td>retardar retardar fracassar fã account</td>\n",
       "    </tr>\n",
       "  </tbody>\n",
       "</table>\n",
       "</div>"
      ],
      "text/plain": [
       "                                                            tweet_text  \\\n",
       "id                                                                       \n",
       "1047035308938792968                  @bybaekbyun @ahniyxd apa c qmo :(   \n",
       "1049165592886796288                  @AnnaPaolaOrtega Felicidades!! :)   \n",
       "1043950366906298369  Surfistas homenageiam brasileiro morto por tub...   \n",
       "1046239935949406208  @jccguk ele oarece uma criancinha ne :( meu be...   \n",
       "1046761233750339584                 @angelaalacchi Nada, a mandar. :))   \n",
       "1046269541175742464  @RafaeIVB Isso! Uhuuul,vamos votar tudo no Had...   \n",
       "1045499441875222528  a bruna já virou jikooka falta ela entrar pra ...   \n",
       "1046749860500652033  gente você acredita que um dia vai ser amada t...   \n",
       "1046923727110377472      Nossa o hyuck n é? :( https://t.co/HBfS3CZoRb   \n",
       "1040477428366368768  @adeIeswiftie Todo retardado e retardada fraca...   \n",
       "\n",
       "                                   tweet_date sentiment query_used  \\\n",
       "id                                                                   \n",
       "1047035308938792968 2018-10-02 08:07:25+00:00         0         :(   \n",
       "1049165592886796288 2018-10-08 05:12:24+00:00         1         :)   \n",
       "1043950366906298369 2018-09-23 19:48:57+00:00         2         g1   \n",
       "1046239935949406208 2018-09-30 03:26:53+00:00         0         :(   \n",
       "1046761233750339584 2018-10-01 13:58:20+00:00         1         :)   \n",
       "1046269541175742464 2018-09-30 05:24:32+00:00         1         :)   \n",
       "1045499441875222528 2018-09-28 02:24:26+00:00         1         :)   \n",
       "1046749860500652033 2018-10-01 13:13:09+00:00         0         :(   \n",
       "1046923727110377472 2018-10-02 00:44:02+00:00         0         :(   \n",
       "1040477428366368768 2018-09-14 05:48:44+00:00         2      #fato   \n",
       "\n",
       "                                                              radicais  \n",
       "id                                                                      \n",
       "1047035308938792968                                          apa c qmo  \n",
       "1049165592886796288                                         felicidade  \n",
       "1043950366906298369   surfista homenagear brasileiro morto tubarao eua  \n",
       "1046239935949406208  oarece criança ne bebé ai to muiro triste ana ...  \n",
       "1046761233750339584                                             mandar  \n",
       "1046269541175742464  uhuuul ir votar haddad brasil ir pra puta parir d  \n",
       "1045499441875222528        bruno ja virar jikooka entrar pra fandom to  \n",
       "1046749860500652033  gente voce acreditar dia amar totalmente pesso...  \n",
       "1046923727110377472                                            hyuck n  \n",
       "1040477428366368768             retardar retardar fracassar fã account  "
      ]
     },
     "execution_count": 87,
     "metadata": {},
     "output_type": "execute_result"
    }
   ],
   "source": [
    "tweets.sample(10)"
   ]
  },
  {
   "cell_type": "markdown",
   "metadata": {},
   "source": [
    "## Treinamento de modelos\n",
    "\n",
    "Vamos agora testar vários modelos de aprendizado de máquina, comparando-os para escolher o melhor."
   ]
  },
  {
   "cell_type": "markdown",
   "metadata": {},
   "source": [
    "### Preparação"
   ]
  },
  {
   "cell_type": "code",
   "execution_count": 11,
   "metadata": {},
   "outputs": [],
   "source": [
    "X = tweets['radicais'] + ' ' + tweets['query_used'] # conforme dito na fase de Análise Exploratória\n",
    "y = tweets['sentiment']"
   ]
  },
  {
   "cell_type": "code",
   "execution_count": 12,
   "metadata": {},
   "outputs": [],
   "source": [
    "from sklearn.model_selection import train_test_split\n",
    "\n",
    "X_train, X_test, y_train, y_test = train_test_split(\n",
    "    X, y,\n",
    "    test_size = 0.3,\n",
    "    stratify = y\n",
    ")"
   ]
  },
  {
   "cell_type": "markdown",
   "metadata": {},
   "source": [
    "### Definição do *pipeline*\n",
    "\n",
    "Vamos montar um *pipeline* de processamento do `scikit-learn`. Dessa forma, podemos automatizar o processo de otimização de hiperparâmetros após a escolha do melhor modelo.\n",
    "\n",
    "Um *pipeline* é composto de um ou mais *transformers* e um estimador ao final. Os *transformers* tem como função transformar os dados, de forma que eles possam ser usados como entrada para um estimador, que usará os dados para fazer estimativas.\n",
    "\n",
    "No nosso caso, a nossa *pipeline* será composta de um *transformer* e um estimador, detalhados a seguir."
   ]
  },
  {
   "cell_type": "markdown",
   "metadata": {},
   "source": [
    "#### Definição dos *Transformers*\n",
    "\n",
    "No nosso caso, os *transformers* terão como *input* os *tweets* já pré-processados (mas ainda em formato de texto), e terão como saída uma série de *features* numéricas.\n",
    "\n",
    "Testaremos 4 *transformers* diferentes:"
   ]
  },
  {
   "cell_type": "code",
   "execution_count": 13,
   "metadata": {},
   "outputs": [],
   "source": [
    "pipeline_transformers = {}"
   ]
  },
  {
   "cell_type": "markdown",
   "metadata": {},
   "source": [
    "##### ***Bag of Words* (`CountVectorizer`)**"
   ]
  },
  {
   "cell_type": "code",
   "execution_count": 19,
   "metadata": {},
   "outputs": [],
   "source": [
    "from sklearn.feature_extraction.text import CountVectorizer\n",
    "\n",
    "bow = CountVectorizer()\n",
    "\n",
    "pipeline_transformers['bow'] = bow"
   ]
  },
  {
   "cell_type": "markdown",
   "metadata": {},
   "source": [
    "##### ***Bag of Words* - TF-IDF**"
   ]
  },
  {
   "cell_type": "code",
   "execution_count": 20,
   "metadata": {},
   "outputs": [],
   "source": [
    "from sklearn.feature_extraction.text import TfidfVectorizer\n",
    "\n",
    "tfidf = TfidfVectorizer(use_idf=True)\n",
    "\n",
    "pipeline_transformers['tfidf'] = tfidf"
   ]
  },
  {
   "cell_type": "markdown",
   "metadata": {},
   "source": [
    "##### ***Word2Vec***"
   ]
  },
  {
   "cell_type": "code",
   "execution_count": 21,
   "metadata": {},
   "outputs": [],
   "source": [
    "from mltoolkit.NLP import W2VTransformer\n",
    "\n",
    "word2vec = W2VTransformer(\n",
    "    vector_size = 50,\n",
    "    min_count = 2,\n",
    "    workers = 2\n",
    ")\n",
    "\n",
    "pipeline_transformers['word2vec'] = word2vec"
   ]
  },
  {
   "cell_type": "markdown",
   "metadata": {},
   "source": [
    "##### ***Doc2Vec***"
   ]
  },
  {
   "cell_type": "code",
   "execution_count": 22,
   "metadata": {},
   "outputs": [],
   "source": [
    "from mltoolkit.NLP import D2VTransformer\n",
    "\n",
    "doc2vec = D2VTransformer(\n",
    "    vector_size = 50,\n",
    "    min_count = 2,\n",
    "    workers = 2\n",
    ")\n",
    "\n",
    "pipeline_transformers['doc2vec'] = doc2vec"
   ]
  },
  {
   "cell_type": "markdown",
   "metadata": {},
   "source": [
    "#### Definição dos estimadores\n",
    "\n",
    "Os estimadores são os diferentes modelos de aprendizado de máquina, que utilizaremos para predizer o tom (sentimento) de um *tweet* qualquer."
   ]
  },
  {
   "cell_type": "code",
   "execution_count": 28,
   "metadata": {},
   "outputs": [],
   "source": [
    "from copy import deepcopy"
   ]
  },
  {
   "cell_type": "code",
   "execution_count": 34,
   "metadata": {},
   "outputs": [],
   "source": [
    "from sklearn.ensemble import RandomForestClassifier\n",
    "from sklearn.linear_model import LogisticRegression\n",
    "from sklearn.ensemble import AdaBoostClassifier\n",
    "from xgboost import XGBClassifier\n",
    "\n",
    "# para reproducibilidade\n",
    "random_seed = 42\n",
    "\n",
    "pipeline_estimadores = {\n",
    "    'logistic': LogisticRegression(random_state = random_seed),\n",
    "    'random_forest': RandomForestClassifier(random_state = random_seed),\n",
    "    'adaboost': AdaBoostClassifier(random_state = random_seed),\n",
    "    'xgboost': XGBClassifier(random_state = random_seed, eval_metric = 'logloss'),\n",
    "}"
   ]
  },
  {
   "cell_type": "markdown",
   "metadata": {},
   "source": [
    "#### Preparação do *pipeline*\n",
    "\n",
    "Vamos agora cruzar cada *transformer* com cada estimador, e rodar os *pipelines* resultantes."
   ]
  },
  {
   "cell_type": "code",
   "execution_count": 35,
   "metadata": {},
   "outputs": [],
   "source": [
    "from sklearn.pipeline import Pipeline\n",
    "\n",
    "pipelines = {}\n",
    "\n",
    "# construindo as pipelines\n",
    "for nome_transformer, transformer in pipeline_transformers.items():\n",
    "    for nome_estimador, estimador in pipeline_estimadores.items():\n",
    "        pipelines[f'{nome_estimador}.{nome_transformer}'] = Pipeline(steps = [\n",
    "            (nome_transformer, deepcopy(transformer)),\n",
    "            (nome_estimador, deepcopy(estimador))\n",
    "        ])"
   ]
  },
  {
   "cell_type": "code",
   "execution_count": 36,
   "metadata": {},
   "outputs": [
    {
     "name": "stderr",
     "output_type": "stream",
     "text": [
      "Pipeline: 100%|██████████| 16/16 [00:31<00:00,  1.95s/it]\n"
     ]
    }
   ],
   "source": [
    "# rodando as pipelines\n",
    "for nome_pipeline, pipeline in tqdm(pipelines.items(), desc = 'Pipeline'):\n",
    "    nome_estimador, nome_transformer = nome_pipeline.split('.')\n",
    "    pipeline.fit(X_train, y_train)"
   ]
  },
  {
   "cell_type": "code",
   "execution_count": 37,
   "metadata": {},
   "outputs": [
    {
     "name": "stdout",
     "output_type": "stream",
     "text": [
      "xgboost.doc2vec\n"
     ]
    }
   ],
   "source": [
    "print(nome_pipeline)"
   ]
  },
  {
   "cell_type": "code",
   "execution_count": 40,
   "metadata": {},
   "outputs": [
    {
     "name": "stdout",
     "output_type": "stream",
     "text": [
      "              precision    recall  f1-score   support\n",
      "\n",
      "           0       0.65      0.65      0.65       494\n",
      "           1       0.66      0.64      0.65       514\n",
      "           2       0.96      0.99      0.98       492\n",
      "\n",
      "    accuracy                           0.76      1500\n",
      "   macro avg       0.76      0.76      0.76      1500\n",
      "weighted avg       0.75      0.76      0.76      1500\n",
      "\n"
     ]
    }
   ],
   "source": [
    "# vamos ver se funcionou...\n",
    "from sklearn.metrics import classification_report\n",
    "\n",
    "est = pipelines['random_forest.tfidf']\n",
    "\n",
    "y_pred = est.predict(X_test)\n",
    "\n",
    "print(classification_report(\n",
    "    y_true = y_test,\n",
    "    y_pred = y_pred\n",
    "))"
   ]
  },
  {
   "cell_type": "markdown",
   "metadata": {},
   "source": [
    "## Medição de desempenho\n",
    "\n",
    "Vamos agora ver como o desempenho de cada combinação de modelo com *transformer* se compara com os demais."
   ]
  },
  {
   "cell_type": "code",
   "execution_count": 68,
   "metadata": {},
   "outputs": [
    {
     "name": "stderr",
     "output_type": "stream",
     "text": [
      "Medindo desempenho: 100%|██████████| 16/16 [00:03<00:00,  4.47it/s]\n"
     ]
    }
   ],
   "source": [
    "from sklearn.metrics import accuracy_score, precision_score, recall_score, f1_score\n",
    "\n",
    "# construindo um dataframe com as métricas relevantes\n",
    "\n",
    "model_rank_name = pd.Series(pipelines.keys()).str.split('.')\n",
    "model_rank_name = pd.DataFrame(model_rank_name.to_list(), columns = ['estimador', 'transformer'])\n",
    "model_rank_idx = pd.MultiIndex.from_frame(model_rank_name)\n",
    "\n",
    "model_rank = pd.DataFrame([], index = model_rank_idx)\n",
    "\n",
    "for nome_pipeline, pipeline in tqdm(pipelines.items(), desc = 'Medindo desempenho'):\n",
    "    nome_estimador, nome_transformer = nome_pipeline.split('.')\n",
    "\n",
    "    # gerando a predição\n",
    "    y_pred = pipeline.predict(X_test)\n",
    "    \n",
    "    # dicionário com argumentos de todas as funções\n",
    "    kwargs = dict(y_true = y_test, y_pred = y_pred)\n",
    "\n",
    "    # calculando as métricas\n",
    "    acc = accuracy_score(**kwargs)\n",
    "    precision = precision_score(average = 'weighted', **kwargs)\n",
    "    recall = recall_score(average = 'weighted', **kwargs)\n",
    "    f1 = f1_score(average = 'weighted', **kwargs)\n",
    "\n",
    "    # registrando as métricas no dataframe\n",
    "    model_rank.loc[(nome_estimador, nome_transformer), 'accuracy'] = acc\n",
    "    model_rank.loc[(nome_estimador, nome_transformer), 'precision'] = precision\n",
    "    model_rank.loc[(nome_estimador, nome_transformer), 'recall'] = recall\n",
    "    model_rank.loc[(nome_estimador, nome_transformer), 'f1'] = f1\n",
    "\n",
    "model_rank.sort_values(by = ['f1', 'accuracy'], ascending = False, inplace = True)"
   ]
  },
  {
   "cell_type": "code",
   "execution_count": 71,
   "metadata": {},
   "outputs": [
    {
     "data": {
      "text/html": [
       "<div>\n",
       "<style scoped>\n",
       "    .dataframe tbody tr th:only-of-type {\n",
       "        vertical-align: middle;\n",
       "    }\n",
       "\n",
       "    .dataframe tbody tr th {\n",
       "        vertical-align: top;\n",
       "    }\n",
       "\n",
       "    .dataframe thead th {\n",
       "        text-align: right;\n",
       "    }\n",
       "</style>\n",
       "<table border=\"1\" class=\"dataframe\">\n",
       "  <thead>\n",
       "    <tr style=\"text-align: right;\">\n",
       "      <th></th>\n",
       "      <th></th>\n",
       "      <th>accuracy</th>\n",
       "      <th>precision</th>\n",
       "      <th>recall</th>\n",
       "      <th>f1</th>\n",
       "    </tr>\n",
       "    <tr>\n",
       "      <th>estimador</th>\n",
       "      <th>transformer</th>\n",
       "      <th></th>\n",
       "      <th></th>\n",
       "      <th></th>\n",
       "      <th></th>\n",
       "    </tr>\n",
       "  </thead>\n",
       "  <tbody>\n",
       "    <tr>\n",
       "      <th>logistic</th>\n",
       "      <th>word2vec</th>\n",
       "      <td>95.27%</td>\n",
       "      <td>95.35%</td>\n",
       "      <td>95.27%</td>\n",
       "      <td>95.25%</td>\n",
       "    </tr>\n",
       "    <tr>\n",
       "      <th>random_forest</th>\n",
       "      <th>word2vec</th>\n",
       "      <td>85.27%</td>\n",
       "      <td>85.53%</td>\n",
       "      <td>85.27%</td>\n",
       "      <td>85.26%</td>\n",
       "    </tr>\n",
       "    <tr>\n",
       "      <th>xgboost</th>\n",
       "      <th>word2vec</th>\n",
       "      <td>84.67%</td>\n",
       "      <td>84.79%</td>\n",
       "      <td>84.67%</td>\n",
       "      <td>84.65%</td>\n",
       "    </tr>\n",
       "    <tr>\n",
       "      <th>logistic</th>\n",
       "      <th>bow</th>\n",
       "      <td>78.33%</td>\n",
       "      <td>78.27%</td>\n",
       "      <td>78.33%</td>\n",
       "      <td>78.30%</td>\n",
       "    </tr>\n",
       "    <tr>\n",
       "      <th>xgboost</th>\n",
       "      <th>bow</th>\n",
       "      <td>78.13%</td>\n",
       "      <td>78.27%</td>\n",
       "      <td>78.13%</td>\n",
       "      <td>77.95%</td>\n",
       "    </tr>\n",
       "    <tr>\n",
       "      <th>logistic</th>\n",
       "      <th>tfidf</th>\n",
       "      <td>77.80%</td>\n",
       "      <td>77.80%</td>\n",
       "      <td>77.80%</td>\n",
       "      <td>77.76%</td>\n",
       "    </tr>\n",
       "    <tr>\n",
       "      <th>xgboost</th>\n",
       "      <th>tfidf</th>\n",
       "      <td>77.80%</td>\n",
       "      <td>77.94%</td>\n",
       "      <td>77.80%</td>\n",
       "      <td>77.66%</td>\n",
       "    </tr>\n",
       "    <tr>\n",
       "      <th rowspan=\"2\" valign=\"top\">random_forest</th>\n",
       "      <th>tfidf</th>\n",
       "      <td>75.80%</td>\n",
       "      <td>75.49%</td>\n",
       "      <td>75.80%</td>\n",
       "      <td>75.63%</td>\n",
       "    </tr>\n",
       "    <tr>\n",
       "      <th>bow</th>\n",
       "      <td>75.13%</td>\n",
       "      <td>74.95%</td>\n",
       "      <td>75.13%</td>\n",
       "      <td>74.86%</td>\n",
       "    </tr>\n",
       "    <tr>\n",
       "      <th rowspan=\"4\" valign=\"top\">adaboost</th>\n",
       "      <th>bow</th>\n",
       "      <td>67.27%</td>\n",
       "      <td>70.85%</td>\n",
       "      <td>67.27%</td>\n",
       "      <td>61.15%</td>\n",
       "    </tr>\n",
       "    <tr>\n",
       "      <th>word2vec</th>\n",
       "      <td>59.40%</td>\n",
       "      <td>59.09%</td>\n",
       "      <td>59.40%</td>\n",
       "      <td>58.86%</td>\n",
       "    </tr>\n",
       "    <tr>\n",
       "      <th>tfidf</th>\n",
       "      <td>61.00%</td>\n",
       "      <td>60.36%</td>\n",
       "      <td>61.00%</td>\n",
       "      <td>56.57%</td>\n",
       "    </tr>\n",
       "    <tr>\n",
       "      <th>doc2vec</th>\n",
       "      <td>46.60%</td>\n",
       "      <td>46.05%</td>\n",
       "      <td>46.60%</td>\n",
       "      <td>45.29%</td>\n",
       "    </tr>\n",
       "    <tr>\n",
       "      <th>random_forest</th>\n",
       "      <th>doc2vec</th>\n",
       "      <td>46.53%</td>\n",
       "      <td>45.38%</td>\n",
       "      <td>46.53%</td>\n",
       "      <td>44.82%</td>\n",
       "    </tr>\n",
       "    <tr>\n",
       "      <th>xgboost</th>\n",
       "      <th>doc2vec</th>\n",
       "      <td>44.87%</td>\n",
       "      <td>44.34%</td>\n",
       "      <td>44.87%</td>\n",
       "      <td>44.33%</td>\n",
       "    </tr>\n",
       "    <tr>\n",
       "      <th>logistic</th>\n",
       "      <th>doc2vec</th>\n",
       "      <td>42.87%</td>\n",
       "      <td>41.77%</td>\n",
       "      <td>42.87%</td>\n",
       "      <td>41.09%</td>\n",
       "    </tr>\n",
       "  </tbody>\n",
       "</table>\n",
       "</div>"
      ],
      "text/plain": [
       "                           accuracy  precision  recall     f1\n",
       "estimador     transformer                                    \n",
       "logistic      word2vec       95.27%     95.35%  95.27% 95.25%\n",
       "random_forest word2vec       85.27%     85.53%  85.27% 85.26%\n",
       "xgboost       word2vec       84.67%     84.79%  84.67% 84.65%\n",
       "logistic      bow            78.33%     78.27%  78.33% 78.30%\n",
       "xgboost       bow            78.13%     78.27%  78.13% 77.95%\n",
       "logistic      tfidf          77.80%     77.80%  77.80% 77.76%\n",
       "xgboost       tfidf          77.80%     77.94%  77.80% 77.66%\n",
       "random_forest tfidf          75.80%     75.49%  75.80% 75.63%\n",
       "              bow            75.13%     74.95%  75.13% 74.86%\n",
       "adaboost      bow            67.27%     70.85%  67.27% 61.15%\n",
       "              word2vec       59.40%     59.09%  59.40% 58.86%\n",
       "              tfidf          61.00%     60.36%  61.00% 56.57%\n",
       "              doc2vec        46.60%     46.05%  46.60% 45.29%\n",
       "random_forest doc2vec        46.53%     45.38%  46.53% 44.82%\n",
       "xgboost       doc2vec        44.87%     44.34%  44.87% 44.33%\n",
       "logistic      doc2vec        42.87%     41.77%  42.87% 41.09%"
      ]
     },
     "metadata": {},
     "output_type": "display_data"
    }
   ],
   "source": [
    "with pd.option_context('display.float_format', lambda x: f'{x:.2%}'):\n",
    "    display(model_rank)"
   ]
  },
  {
   "cell_type": "markdown",
   "metadata": {},
   "source": [
    "Parece que \n",
    "* o *transformer* ***Word2Vec*** performa muito bem nessa base: as três melhores combinações usam esse *transformer*; e\n",
    "* especificamente, **o modelo de regressão logística com *transformer* *Word2Vec* performou de forma excelente** no conjunto de teste."
   ]
  },
  {
   "cell_type": "code",
   "execution_count": 80,
   "metadata": {},
   "outputs": [
    {
     "name": "stdout",
     "output_type": "stream",
     "text": [
      "Modelo 'logistic', transformer 'word2vec':\n",
      "              precision    recall  f1-score   support\n",
      "\n",
      "           0       0.94      0.97      0.96       494\n",
      "           1       0.94      0.98      0.96       514\n",
      "           2       0.98      0.91      0.94       492\n",
      "\n",
      "    accuracy                           0.95      1500\n",
      "   macro avg       0.95      0.95      0.95      1500\n",
      "weighted avg       0.95      0.95      0.95      1500\n",
      "\n"
     ]
    }
   ],
   "source": [
    "nome_pipeline = 'logistic.word2vec'\n",
    "nome_estimador, nome_transformer = nome_pipeline.split('.')\n",
    "est = pipelines[nome_pipeline]\n",
    "\n",
    "y_pred = est.predict(X_test)\n",
    "\n",
    "print(f\"Modelo '{nome_estimador}', transformer '{nome_transformer}':\")\n",
    "print(classification_report(\n",
    "    y_true = y_test,\n",
    "    y_pred = y_pred\n",
    "))"
   ]
  },
  {
   "cell_type": "code",
   "execution_count": 81,
   "metadata": {},
   "outputs": [
    {
     "name": "stdout",
     "output_type": "stream",
     "text": [
      "Modelo 'logistic', transformer 'word2vec':\n"
     ]
    },
    {
     "data": {
      "image/png": "[encoded data removed]",
      "text/plain": [
       "<Figure size 1200x960 with 1 Axes>"
      ]
     },
     "metadata": {},
     "output_type": "display_data"
    }
   ],
   "source": [
    "from mlxtend.plotting import plot_confusion_matrix\n",
    "from sklearn.metrics import classification_report, confusion_matrix\n",
    "\n",
    "cm = confusion_matrix(y_test, y_pred)\n",
    "\n",
    "print(f\"Modelo '{nome_estimador}', transformer '{nome_transformer}':\")\n",
    "plot_confusion_matrix(conf_mat=cm)\n",
    "plt.show()"
   ]
  },
  {
   "cell_type": "markdown",
   "metadata": {},
   "source": [
    "Aparentemente o modelo tem uma leve dificuldade em prever *tweets* de tom neutro. No entanto, mesmo nesse caso, **o *recall* para esta classe é superior a 90%**, corroborando o desempenho excelente."
   ]
  },
  {
   "cell_type": "markdown",
   "metadata": {},
   "source": [
    "Outros modelos que performaram muito bem foram **o estimador de *Random Forest* com *transformer* *Word2Vec***...."
   ]
  },
  {
   "cell_type": "code",
   "execution_count": 82,
   "metadata": {},
   "outputs": [
    {
     "name": "stdout",
     "output_type": "stream",
     "text": [
      "Modelo 'random_forest', transformer 'word2vec':\n",
      "              precision    recall  f1-score   support\n",
      "\n",
      "           0       0.88      0.82      0.85       494\n",
      "           1       0.81      0.90      0.85       514\n",
      "           2       0.87      0.84      0.85       492\n",
      "\n",
      "    accuracy                           0.85      1500\n",
      "   macro avg       0.86      0.85      0.85      1500\n",
      "weighted avg       0.86      0.85      0.85      1500\n",
      "\n"
     ]
    }
   ],
   "source": [
    "nome_pipeline = 'random_forest.word2vec'\n",
    "nome_estimador, nome_transformer = nome_pipeline.split('.')\n",
    "est = pipelines[nome_pipeline]\n",
    "\n",
    "y_pred = est.predict(X_test)\n",
    "\n",
    "print(f\"Modelo '{nome_estimador}', transformer '{nome_transformer}':\")\n",
    "print(classification_report(\n",
    "    y_true = y_test,\n",
    "    y_pred = y_pred\n",
    "))"
   ]
  },
  {
   "cell_type": "code",
   "execution_count": 83,
   "metadata": {},
   "outputs": [
    {
     "name": "stdout",
     "output_type": "stream",
     "text": [
      "Modelo 'random_forest', transformer 'word2vec':\n"
     ]
    },
    {
     "data": {
      "image/png": "[encoded data removed]",
      "text/plain": [
       "<Figure size 1200x960 with 1 Axes>"
      ]
     },
     "metadata": {},
     "output_type": "display_data"
    }
   ],
   "source": [
    "cm = confusion_matrix(y_test, y_pred)\n",
    "\n",
    "print(f\"Modelo '{nome_estimador}', transformer '{nome_transformer}':\")\n",
    "plot_confusion_matrix(conf_mat=cm)\n",
    "plt.show()"
   ]
  },
  {
   "cell_type": "markdown",
   "metadata": {},
   "source": [
    "... e o estimador ***XGBoost*, também com *transformer* *Word2Vec***:"
   ]
  },
  {
   "cell_type": "code",
   "execution_count": 84,
   "metadata": {},
   "outputs": [
    {
     "name": "stdout",
     "output_type": "stream",
     "text": [
      "Modelo 'xgboost', transformer 'word2vec':\n",
      "              precision    recall  f1-score   support\n",
      "\n",
      "           0       0.85      0.83      0.84       494\n",
      "           1       0.82      0.89      0.85       514\n",
      "           2       0.87      0.82      0.84       492\n",
      "\n",
      "    accuracy                           0.85      1500\n",
      "   macro avg       0.85      0.85      0.85      1500\n",
      "weighted avg       0.85      0.85      0.85      1500\n",
      "\n"
     ]
    }
   ],
   "source": [
    "nome_pipeline = 'xgboost.word2vec'\n",
    "nome_estimador, nome_transformer = nome_pipeline.split('.')\n",
    "est = pipelines[nome_pipeline]\n",
    "\n",
    "y_pred = est.predict(X_test)\n",
    "\n",
    "print(f\"Modelo '{nome_estimador}', transformer '{nome_transformer}':\")\n",
    "print(classification_report(\n",
    "    y_true = y_test,\n",
    "    y_pred = y_pred\n",
    "))"
   ]
  },
  {
   "cell_type": "code",
   "execution_count": 85,
   "metadata": {},
   "outputs": [
    {
     "name": "stdout",
     "output_type": "stream",
     "text": [
      "Modelo 'xgboost', transformer 'word2vec':\n"
     ]
    },
    {
     "data": {
      "image/png": "[encoded data removed]",
      "text/plain": [
       "<Figure size 1200x960 with 1 Axes>"
      ]
     },
     "metadata": {},
     "output_type": "display_data"
    }
   ],
   "source": [
    "cm = confusion_matrix(y_test, y_pred)\n",
    "\n",
    "print(f\"Modelo '{nome_estimador}', transformer '{nome_transformer}':\")\n",
    "plot_confusion_matrix(conf_mat=cm)\n",
    "plt.show()"
   ]
  },
  {
   "cell_type": "markdown",
   "metadata": {},
   "source": [
    "Ainda que os estimadores *XGBoost* e *Random Forest* tenham performado muito bem, a performance da Regressão Logística foi incomparável em todas as métricas.\n",
    "\n",
    "Vamos portanto prroseguir com a otimização desse modelo."
   ]
  },
  {
   "cell_type": "markdown",
   "metadata": {},
   "source": [
    "## Otimização do modelo de **Regressão Logística** com *transformer* ***Word2vec***.\n",
    "\n",
    "Vamos otimizar agora o modelo fitado. Para tal, precisamos alterar seus hiperparâmetros e checar se o ajuste é melhor.\n",
    "\n",
    "Para tal, primeiramente vamos definir quais hiperparâmetros vamos testar e com quais valores."
   ]
  },
  {
   "cell_type": "code",
   "execution_count": 88,
   "metadata": {},
   "outputs": [],
   "source": [
    "# definimos parâmetros de vários estimadores e transformers caso precisemos\n",
    "\n",
    "otimizacoes = dict(\n",
    "    tfidf = dict(\n",
    "        use_idf = [True, False],\n",
    "    ),\n",
    "    word2vec = dict(\n",
    "        vector_size = [10, 50, 100, 200],\n",
    "        vector_combination = [\n",
    "            lambda x: np.sum(x, axis = 0),\n",
    "            lambda x: np.mean(x, axis = 0)\n",
    "        ],\n",
    "    ),\n",
    "    doc2vec = dict(\n",
    "        vector_size = [10, 50, 100, 200],\n",
    "    ),\n",
    "    logistic = {\n",
    "        'penalty': ['elasticnet', 'l1', 'l2'],\n",
    "        'fit_intercept': [True, False],\n",
    "        'solver': [ 'lbfgs', 'saga' ],\n",
    "    },\n",
    "    xgboost = {\n",
    "        'criterion': ['friedman_mse', 'mae' ],\n",
    "        'max_features': [ 'log2', 'sqrt' ],\n",
    "        'learning_rate': [ 0.01, 0.05, 0.1, 0.5, 1, ],\n",
    "        'max_depth': [ 3, 4, 5, 10 ],\n",
    "        'n_estimators': [ 5 ,10, 15, 20, 100, 150 ],\n",
    "    },\n",
    "    random_forest = {\n",
    "        'n_estimators': [200, 500],\n",
    "        'max_features': ['auto', 'sqrt', 'log2'],\n",
    "        'max_depth' : [4,5,6,7,8],\n",
    "        'criterion' :['gini', 'entropy']\n",
    "    },\n",
    ")"
   ]
  },
  {
   "cell_type": "markdown",
   "metadata": {},
   "source": [
    "Vamos agora configurar a otimização:"
   ]
  },
  {
   "cell_type": "code",
   "execution_count": 97,
   "metadata": {},
   "outputs": [
    {
     "name": "stdout",
     "output_type": "stream",
     "text": [
      "{'logistic.word2vec': {'logistic__fit_intercept': [True, False],\n",
      "                       'logistic__penalty': ['elasticnet', 'l1', 'l2'],\n",
      "                       'logistic__solver': ['lbfgs', 'saga'],\n",
      "                       'word2vec__vector_combination': [<function <lambda> at 0x000001B1A4096DC0>,\n",
      "                                                        <function <lambda> at 0x000001B1A439A040>],\n",
      "                       'word2vec__vector_size': [10, 50, 100, 200]},\n",
      " 'random_forest.word2vec': {'random_forest__criterion': ['gini', 'entropy'],\n",
      "                            'random_forest__max_depth': [4, 5, 6, 7, 8],\n",
      "                            'random_forest__max_features': ['auto',\n",
      "                                                            'sqrt',\n",
      "                                                            'log2'],\n",
      "                            'random_forest__n_estimators': [200, 500],\n",
      "                            'word2vec__vector_combination': [<function <lambda> at 0x000001B1A4096DC0>,\n",
      "                                                             <function <lambda> at 0x000001B1A439A040>],\n",
      "                            'word2vec__vector_size': [10, 50, 100, 200]}}\n"
     ]
    }
   ],
   "source": [
    "from pprint import pprint\n",
    "\n",
    "# para cada nome de modelo a ser otimizado, haverá um dicionário com a configuração da otimização\n",
    "\n",
    "nomes_modelos = [ 'logistic.word2vec', 'random_forest.word2vec' ]\n",
    "\n",
    "params = {}\n",
    "\n",
    "for nome in nomes_modelos:\n",
    "    params[nome] = {}\n",
    "    for nome_pipe in nome.split('.'):\n",
    "        for nome_param, valores_param in otimizacoes.get(nome_pipe, {}).items():\n",
    "            params[nome][f'{nome_pipe}__{nome_param}'] = valores_param\n",
    "    \n",
    "    if not params[nome]:\n",
    "        _ = params.pop(nome, None)\n",
    "\n",
    "pprint(params)"
   ]
  },
  {
   "cell_type": "code",
   "execution_count": 99,
   "metadata": {},
   "outputs": [
    {
     "name": "stdout",
     "output_type": "stream",
     "text": [
      "Iniciando busca...\n",
      "Procurando hiperparâmetros ótimos para o modelo 'logistic' com transformer 'word2vec'... \n",
      "Fitting 3 folds for each of 96 candidates, totalling 288 fits\n",
      "... OK. Duração da busca: 0:01:28.283066)\n",
      "\n",
      "Procurando hiperparâmetros ótimos para o modelo 'random_forest' com transformer 'word2vec'... \n",
      "Fitting 3 folds for each of 150 candidates, totalling 450 fits\n",
      "... OK. Duração da busca: 0:08:59.878244\n"
     ]
    }
   ],
   "source": [
    "from sklearn.model_selection import StratifiedKFold, RandomizedSearchCV\n",
    "from datetime import datetime as dt\n",
    "\n",
    "nome_score = 'accuracy'\n",
    "searchers = {}\n",
    "\n",
    "cv = StratifiedKFold(\n",
    "    n_splits = 3,\n",
    ")\n",
    "\n",
    "# deletar a variável t0 caso exista, para que a lógica de timing dos testes não se confunda\n",
    "try:\n",
    "    del t0\n",
    "except NameError:\n",
    "    pass\n",
    "\n",
    "print('Iniciando busca...')\n",
    "for nome_pipeline, hiperparams_otim in params.items():\n",
    "\n",
    "    nome_estimador, nome_transformer = nome_pipeline.split('.')\n",
    "    modelo = pipelines[nome_pipeline]\n",
    "    \n",
    "    try:\n",
    "        tfim = dt.now()\n",
    "        delta = tfim - t0\n",
    "        print(f\"... OK. (Duração da busca: {delta})\\n\")\n",
    "    except NameError:   # variavel t0 não existe: primeira iteração do loop\n",
    "        pass\n",
    "\n",
    "    print(f\"Procurando hiperparâmetros ótimos para o modelo '{nome_estimador}' com transformer '{nome_transformer}'... \")\n",
    "    t0 = dt.now()\n",
    "    random_search = RandomizedSearchCV(\n",
    "        estimator = modelo, \n",
    "        param_distributions = hiperparams_otim, \n",
    "        scoring = nome_score,\n",
    "        n_iter = 150,\n",
    "        cv = cv, \n",
    "        verbose = 2,\n",
    "        n_jobs = -1,\n",
    "    )\n",
    "    \n",
    "    searchers[nome_pipeline] = random_search.fit(X_train, y_train)\n",
    "\n",
    "tfim = dt.now()\n",
    "delta = tfim - t0\n",
    "print(f\"... OK. (Duração da busca: {delta})\")\n"
   ]
  },
  {
   "cell_type": "code",
   "execution_count": 100,
   "metadata": {},
   "outputs": [
    {
     "name": "stdout",
     "output_type": "stream",
     "text": [
      "Melhores parâmetros para o modelo 'logistic' com transformer 'word2vec':\n",
      "{'logistic__fit_intercept': True,\n",
      " 'logistic__penalty': 'l2',\n",
      " 'logistic__solver': 'lbfgs',\n",
      " 'word2vec__vector_combination': <function <lambda> at 0x000001B1A4096DC0>,\n",
      " 'word2vec__vector_size': 100}\n",
      "\n",
      "Melhores parâmetros para o modelo 'random_forest' com transformer 'word2vec':\n",
      "{'random_forest__criterion': 'entropy',\n",
      " 'random_forest__max_depth': 8,\n",
      " 'random_forest__max_features': 'sqrt',\n",
      " 'random_forest__n_estimators': 200,\n",
      " 'word2vec__vector_combination': <function <lambda> at 0x000001B1A439A040>,\n",
      " 'word2vec__vector_size': 200}\n",
      "\n"
     ]
    }
   ],
   "source": [
    "for nome_pipeline, searcher in searchers.items():\n",
    "    nome_estimador, nome_transformer = nome_pipeline.split('.')\n",
    "    print(f\"Melhores parâmetros para o modelo '{nome_estimador}' com transformer '{nome_transformer}':\")\n",
    "    pprint(searcher.best_params_)\n",
    "    print('')"
   ]
  },
  {
   "cell_type": "markdown",
   "metadata": {},
   "source": [
    "A melhora no desempenho de cada um dos modelos é:"
   ]
  },
  {
   "cell_type": "code",
   "execution_count": 101,
   "metadata": {},
   "outputs": [],
   "source": [
    "cvresults = {}\n",
    "\n",
    "for nome_modelo, searcher in searchers.items():\n",
    "    rsdf = pd.DataFrame(searcher.cv_results_)\n",
    "    rsdf = rsdf.set_index([ col for col in rsdf.columns if col.startswith('param_') ])\n",
    "    cvresults[nome_modelo] = rsdf.sort_values(by = 'rank_test_score')"
   ]
  },
  {
   "cell_type": "code",
   "execution_count": 104,
   "metadata": {},
   "outputs": [
    {
     "data": {
      "text/html": [
       "<div>\n",
       "<style scoped>\n",
       "    .dataframe tbody tr th:only-of-type {\n",
       "        vertical-align: middle;\n",
       "    }\n",
       "\n",
       "    .dataframe tbody tr th {\n",
       "        vertical-align: top;\n",
       "    }\n",
       "\n",
       "    .dataframe thead th {\n",
       "        text-align: right;\n",
       "    }\n",
       "</style>\n",
       "<table border=\"1\" class=\"dataframe\">\n",
       "  <thead>\n",
       "    <tr style=\"text-align: right;\">\n",
       "      <th></th>\n",
       "      <th></th>\n",
       "      <th></th>\n",
       "      <th></th>\n",
       "      <th></th>\n",
       "      <th>mean_fit_time</th>\n",
       "      <th>std_fit_time</th>\n",
       "      <th>mean_score_time</th>\n",
       "      <th>std_score_time</th>\n",
       "      <th>params</th>\n",
       "      <th>split0_test_score</th>\n",
       "      <th>split1_test_score</th>\n",
       "      <th>split2_test_score</th>\n",
       "      <th>mean_test_score</th>\n",
       "      <th>std_test_score</th>\n",
       "      <th>rank_test_score</th>\n",
       "    </tr>\n",
       "    <tr>\n",
       "      <th>param_word2vec__vector_size</th>\n",
       "      <th>param_word2vec__vector_combination</th>\n",
       "      <th>param_logistic__solver</th>\n",
       "      <th>param_logistic__penalty</th>\n",
       "      <th>param_logistic__fit_intercept</th>\n",
       "      <th></th>\n",
       "      <th></th>\n",
       "      <th></th>\n",
       "      <th></th>\n",
       "      <th></th>\n",
       "      <th></th>\n",
       "      <th></th>\n",
       "      <th></th>\n",
       "      <th></th>\n",
       "      <th></th>\n",
       "      <th></th>\n",
       "    </tr>\n",
       "  </thead>\n",
       "  <tbody>\n",
       "    <tr>\n",
       "      <th>100</th>\n",
       "      <th>&lt;function &lt;lambda&gt; at 0x000001B1A4096DC0&gt;</th>\n",
       "      <th>lbfgs</th>\n",
       "      <th>l2</th>\n",
       "      <th>True</th>\n",
       "      <td>1.467803</td>\n",
       "      <td>0.204379</td>\n",
       "      <td>0.130595</td>\n",
       "      <td>0.021812</td>\n",
       "      <td>{'word2vec__vector_size': 100, 'word2vec__vect...</td>\n",
       "      <td>0.964867</td>\n",
       "      <td>0.976007</td>\n",
       "      <td>0.961407</td>\n",
       "      <td>0.967427</td>\n",
       "      <td>0.006229</td>\n",
       "      <td>1</td>\n",
       "    </tr>\n",
       "    <tr>\n",
       "      <th>50</th>\n",
       "      <th>&lt;function &lt;lambda&gt; at 0x000001B1A4096DC0&gt;</th>\n",
       "      <th>lbfgs</th>\n",
       "      <th>l2</th>\n",
       "      <th>True</th>\n",
       "      <td>1.364848</td>\n",
       "      <td>0.184227</td>\n",
       "      <td>0.133387</td>\n",
       "      <td>0.028081</td>\n",
       "      <td>{'word2vec__vector_size': 50, 'word2vec__vecto...</td>\n",
       "      <td>0.951157</td>\n",
       "      <td>0.929734</td>\n",
       "      <td>0.928816</td>\n",
       "      <td>0.936569</td>\n",
       "      <td>0.010322</td>\n",
       "      <td>2</td>\n",
       "    </tr>\n",
       "    <tr>\n",
       "      <th>100</th>\n",
       "      <th>&lt;function &lt;lambda&gt; at 0x000001B1A4096DC0&gt;</th>\n",
       "      <th>lbfgs</th>\n",
       "      <th>l2</th>\n",
       "      <th>False</th>\n",
       "      <td>1.016911</td>\n",
       "      <td>0.028079</td>\n",
       "      <td>0.109570</td>\n",
       "      <td>0.007641</td>\n",
       "      <td>{'word2vec__vector_size': 100, 'word2vec__vect...</td>\n",
       "      <td>0.886033</td>\n",
       "      <td>0.903171</td>\n",
       "      <td>0.901372</td>\n",
       "      <td>0.896858</td>\n",
       "      <td>0.007690</td>\n",
       "      <td>3</td>\n",
       "    </tr>\n",
       "    <tr>\n",
       "      <th rowspan=\"2\" valign=\"top\">200</th>\n",
       "      <th rowspan=\"2\" valign=\"top\">&lt;function &lt;lambda&gt; at 0x000001B1A4096DC0&gt;</th>\n",
       "      <th rowspan=\"2\" valign=\"top\">lbfgs</th>\n",
       "      <th rowspan=\"2\" valign=\"top\">l2</th>\n",
       "      <th>True</th>\n",
       "      <td>1.321234</td>\n",
       "      <td>0.148747</td>\n",
       "      <td>0.113142</td>\n",
       "      <td>0.009050</td>\n",
       "      <td>{'word2vec__vector_size': 200, 'word2vec__vect...</td>\n",
       "      <td>0.899743</td>\n",
       "      <td>0.937446</td>\n",
       "      <td>0.851630</td>\n",
       "      <td>0.896273</td>\n",
       "      <td>0.035120</td>\n",
       "      <td>4</td>\n",
       "    </tr>\n",
       "    <tr>\n",
       "      <th>False</th>\n",
       "      <td>1.049683</td>\n",
       "      <td>0.056142</td>\n",
       "      <td>0.135992</td>\n",
       "      <td>0.042822</td>\n",
       "      <td>{'word2vec__vector_size': 200, 'word2vec__vect...</td>\n",
       "      <td>0.917738</td>\n",
       "      <td>0.869751</td>\n",
       "      <td>0.876501</td>\n",
       "      <td>0.887997</td>\n",
       "      <td>0.021210</td>\n",
       "      <td>5</td>\n",
       "    </tr>\n",
       "    <tr>\n",
       "      <th>...</th>\n",
       "      <th>...</th>\n",
       "      <th>...</th>\n",
       "      <th>...</th>\n",
       "      <th>...</th>\n",
       "      <td>...</td>\n",
       "      <td>...</td>\n",
       "      <td>...</td>\n",
       "      <td>...</td>\n",
       "      <td>...</td>\n",
       "      <td>...</td>\n",
       "      <td>...</td>\n",
       "      <td>...</td>\n",
       "      <td>...</td>\n",
       "      <td>...</td>\n",
       "      <td>...</td>\n",
       "    </tr>\n",
       "    <tr>\n",
       "      <th>100</th>\n",
       "      <th>&lt;function &lt;lambda&gt; at 0x000001B1A4096DC0&gt;</th>\n",
       "      <th>lbfgs</th>\n",
       "      <th>l1</th>\n",
       "      <th>False</th>\n",
       "      <td>0.708119</td>\n",
       "      <td>0.032345</td>\n",
       "      <td>0.000000</td>\n",
       "      <td>0.000000</td>\n",
       "      <td>{'word2vec__vector_size': 100, 'word2vec__vect...</td>\n",
       "      <td>NaN</td>\n",
       "      <td>NaN</td>\n",
       "      <td>NaN</td>\n",
       "      <td>NaN</td>\n",
       "      <td>NaN</td>\n",
       "      <td>92</td>\n",
       "    </tr>\n",
       "    <tr>\n",
       "      <th>200</th>\n",
       "      <th>&lt;function &lt;lambda&gt; at 0x000001B1A4096DC0&gt;</th>\n",
       "      <th>lbfgs</th>\n",
       "      <th>l1</th>\n",
       "      <th>False</th>\n",
       "      <td>0.791348</td>\n",
       "      <td>0.041782</td>\n",
       "      <td>0.000000</td>\n",
       "      <td>0.000000</td>\n",
       "      <td>{'word2vec__vector_size': 200, 'word2vec__vect...</td>\n",
       "      <td>NaN</td>\n",
       "      <td>NaN</td>\n",
       "      <td>NaN</td>\n",
       "      <td>NaN</td>\n",
       "      <td>NaN</td>\n",
       "      <td>93</td>\n",
       "    </tr>\n",
       "    <tr>\n",
       "      <th>10</th>\n",
       "      <th>&lt;function &lt;lambda&gt; at 0x000001B1A439A040&gt;</th>\n",
       "      <th>lbfgs</th>\n",
       "      <th>l1</th>\n",
       "      <th>False</th>\n",
       "      <td>0.720864</td>\n",
       "      <td>0.053195</td>\n",
       "      <td>0.000000</td>\n",
       "      <td>0.000000</td>\n",
       "      <td>{'word2vec__vector_size': 10, 'word2vec__vecto...</td>\n",
       "      <td>NaN</td>\n",
       "      <td>NaN</td>\n",
       "      <td>NaN</td>\n",
       "      <td>NaN</td>\n",
       "      <td>NaN</td>\n",
       "      <td>94</td>\n",
       "    </tr>\n",
       "    <tr>\n",
       "      <th>100</th>\n",
       "      <th>&lt;function &lt;lambda&gt; at 0x000001B1A439A040&gt;</th>\n",
       "      <th>lbfgs</th>\n",
       "      <th>l1</th>\n",
       "      <th>False</th>\n",
       "      <td>0.834265</td>\n",
       "      <td>0.022445</td>\n",
       "      <td>0.000000</td>\n",
       "      <td>0.000000</td>\n",
       "      <td>{'word2vec__vector_size': 100, 'word2vec__vect...</td>\n",
       "      <td>NaN</td>\n",
       "      <td>NaN</td>\n",
       "      <td>NaN</td>\n",
       "      <td>NaN</td>\n",
       "      <td>NaN</td>\n",
       "      <td>95</td>\n",
       "    </tr>\n",
       "    <tr>\n",
       "      <th>10</th>\n",
       "      <th>&lt;function &lt;lambda&gt; at 0x000001B1A4096DC0&gt;</th>\n",
       "      <th>lbfgs</th>\n",
       "      <th>elasticnet</th>\n",
       "      <th>True</th>\n",
       "      <td>1.123850</td>\n",
       "      <td>0.137431</td>\n",
       "      <td>0.000000</td>\n",
       "      <td>0.000000</td>\n",
       "      <td>{'word2vec__vector_size': 10, 'word2vec__vecto...</td>\n",
       "      <td>NaN</td>\n",
       "      <td>NaN</td>\n",
       "      <td>NaN</td>\n",
       "      <td>NaN</td>\n",
       "      <td>NaN</td>\n",
       "      <td>96</td>\n",
       "    </tr>\n",
       "  </tbody>\n",
       "</table>\n",
       "<p>96 rows × 11 columns</p>\n",
       "</div>"
      ],
      "text/plain": [
       "                                                                                                                                                    mean_fit_time  \\\n",
       "param_word2vec__vector_size param_word2vec__vector_combination        param_logistic__solver param_logistic__penalty param_logistic__fit_intercept                  \n",
       "100                         <function <lambda> at 0x000001B1A4096DC0> lbfgs                  l2                      True                                1.467803   \n",
       "50                          <function <lambda> at 0x000001B1A4096DC0> lbfgs                  l2                      True                                1.364848   \n",
       "100                         <function <lambda> at 0x000001B1A4096DC0> lbfgs                  l2                      False                               1.016911   \n",
       "200                         <function <lambda> at 0x000001B1A4096DC0> lbfgs                  l2                      True                                1.321234   \n",
       "                                                                                                                     False                               1.049683   \n",
       "...                                                                                                                                                           ...   \n",
       "100                         <function <lambda> at 0x000001B1A4096DC0> lbfgs                  l1                      False                               0.708119   \n",
       "200                         <function <lambda> at 0x000001B1A4096DC0> lbfgs                  l1                      False                               0.791348   \n",
       "10                          <function <lambda> at 0x000001B1A439A040> lbfgs                  l1                      False                               0.720864   \n",
       "100                         <function <lambda> at 0x000001B1A439A040> lbfgs                  l1                      False                               0.834265   \n",
       "10                          <function <lambda> at 0x000001B1A4096DC0> lbfgs                  elasticnet              True                                1.123850   \n",
       "\n",
       "                                                                                                                                                    std_fit_time  \\\n",
       "param_word2vec__vector_size param_word2vec__vector_combination        param_logistic__solver param_logistic__penalty param_logistic__fit_intercept                 \n",
       "100                         <function <lambda> at 0x000001B1A4096DC0> lbfgs                  l2                      True                               0.204379   \n",
       "50                          <function <lambda> at 0x000001B1A4096DC0> lbfgs                  l2                      True                               0.184227   \n",
       "100                         <function <lambda> at 0x000001B1A4096DC0> lbfgs                  l2                      False                              0.028079   \n",
       "200                         <function <lambda> at 0x000001B1A4096DC0> lbfgs                  l2                      True                               0.148747   \n",
       "                                                                                                                     False                              0.056142   \n",
       "...                                                                                                                                                          ...   \n",
       "100                         <function <lambda> at 0x000001B1A4096DC0> lbfgs                  l1                      False                              0.032345   \n",
       "200                         <function <lambda> at 0x000001B1A4096DC0> lbfgs                  l1                      False                              0.041782   \n",
       "10                          <function <lambda> at 0x000001B1A439A040> lbfgs                  l1                      False                              0.053195   \n",
       "100                         <function <lambda> at 0x000001B1A439A040> lbfgs                  l1                      False                              0.022445   \n",
       "10                          <function <lambda> at 0x000001B1A4096DC0> lbfgs                  elasticnet              True                               0.137431   \n",
       "\n",
       "                                                                                                                                                    mean_score_time  \\\n",
       "param_word2vec__vector_size param_word2vec__vector_combination        param_logistic__solver param_logistic__penalty param_logistic__fit_intercept                    \n",
       "100                         <function <lambda> at 0x000001B1A4096DC0> lbfgs                  l2                      True                                  0.130595   \n",
       "50                          <function <lambda> at 0x000001B1A4096DC0> lbfgs                  l2                      True                                  0.133387   \n",
       "100                         <function <lambda> at 0x000001B1A4096DC0> lbfgs                  l2                      False                                 0.109570   \n",
       "200                         <function <lambda> at 0x000001B1A4096DC0> lbfgs                  l2                      True                                  0.113142   \n",
       "                                                                                                                     False                                 0.135992   \n",
       "...                                                                                                                                                             ...   \n",
       "100                         <function <lambda> at 0x000001B1A4096DC0> lbfgs                  l1                      False                                 0.000000   \n",
       "200                         <function <lambda> at 0x000001B1A4096DC0> lbfgs                  l1                      False                                 0.000000   \n",
       "10                          <function <lambda> at 0x000001B1A439A040> lbfgs                  l1                      False                                 0.000000   \n",
       "100                         <function <lambda> at 0x000001B1A439A040> lbfgs                  l1                      False                                 0.000000   \n",
       "10                          <function <lambda> at 0x000001B1A4096DC0> lbfgs                  elasticnet              True                                  0.000000   \n",
       "\n",
       "                                                                                                                                                    std_score_time  \\\n",
       "param_word2vec__vector_size param_word2vec__vector_combination        param_logistic__solver param_logistic__penalty param_logistic__fit_intercept                   \n",
       "100                         <function <lambda> at 0x000001B1A4096DC0> lbfgs                  l2                      True                                 0.021812   \n",
       "50                          <function <lambda> at 0x000001B1A4096DC0> lbfgs                  l2                      True                                 0.028081   \n",
       "100                         <function <lambda> at 0x000001B1A4096DC0> lbfgs                  l2                      False                                0.007641   \n",
       "200                         <function <lambda> at 0x000001B1A4096DC0> lbfgs                  l2                      True                                 0.009050   \n",
       "                                                                                                                     False                                0.042822   \n",
       "...                                                                                                                                                            ...   \n",
       "100                         <function <lambda> at 0x000001B1A4096DC0> lbfgs                  l1                      False                                0.000000   \n",
       "200                         <function <lambda> at 0x000001B1A4096DC0> lbfgs                  l1                      False                                0.000000   \n",
       "10                          <function <lambda> at 0x000001B1A439A040> lbfgs                  l1                      False                                0.000000   \n",
       "100                         <function <lambda> at 0x000001B1A439A040> lbfgs                  l1                      False                                0.000000   \n",
       "10                          <function <lambda> at 0x000001B1A4096DC0> lbfgs                  elasticnet              True                                 0.000000   \n",
       "\n",
       "                                                                                                                                                                                               params  \\\n",
       "param_word2vec__vector_size param_word2vec__vector_combination        param_logistic__solver param_logistic__penalty param_logistic__fit_intercept                                                      \n",
       "100                         <function <lambda> at 0x000001B1A4096DC0> lbfgs                  l2                      True                           {'word2vec__vector_size': 100, 'word2vec__vect...   \n",
       "50                          <function <lambda> at 0x000001B1A4096DC0> lbfgs                  l2                      True                           {'word2vec__vector_size': 50, 'word2vec__vecto...   \n",
       "100                         <function <lambda> at 0x000001B1A4096DC0> lbfgs                  l2                      False                          {'word2vec__vector_size': 100, 'word2vec__vect...   \n",
       "200                         <function <lambda> at 0x000001B1A4096DC0> lbfgs                  l2                      True                           {'word2vec__vector_size': 200, 'word2vec__vect...   \n",
       "                                                                                                                     False                          {'word2vec__vector_size': 200, 'word2vec__vect...   \n",
       "...                                                                                                                                                                                               ...   \n",
       "100                         <function <lambda> at 0x000001B1A4096DC0> lbfgs                  l1                      False                          {'word2vec__vector_size': 100, 'word2vec__vect...   \n",
       "200                         <function <lambda> at 0x000001B1A4096DC0> lbfgs                  l1                      False                          {'word2vec__vector_size': 200, 'word2vec__vect...   \n",
       "10                          <function <lambda> at 0x000001B1A439A040> lbfgs                  l1                      False                          {'word2vec__vector_size': 10, 'word2vec__vecto...   \n",
       "100                         <function <lambda> at 0x000001B1A439A040> lbfgs                  l1                      False                          {'word2vec__vector_size': 100, 'word2vec__vect...   \n",
       "10                          <function <lambda> at 0x000001B1A4096DC0> lbfgs                  elasticnet              True                           {'word2vec__vector_size': 10, 'word2vec__vecto...   \n",
       "\n",
       "                                                                                                                                                    split0_test_score  \\\n",
       "param_word2vec__vector_size param_word2vec__vector_combination        param_logistic__solver param_logistic__penalty param_logistic__fit_intercept                      \n",
       "100                         <function <lambda> at 0x000001B1A4096DC0> lbfgs                  l2                      True                                    0.964867   \n",
       "50                          <function <lambda> at 0x000001B1A4096DC0> lbfgs                  l2                      True                                    0.951157   \n",
       "100                         <function <lambda> at 0x000001B1A4096DC0> lbfgs                  l2                      False                                   0.886033   \n",
       "200                         <function <lambda> at 0x000001B1A4096DC0> lbfgs                  l2                      True                                    0.899743   \n",
       "                                                                                                                     False                                   0.917738   \n",
       "...                                                                                                                                                               ...   \n",
       "100                         <function <lambda> at 0x000001B1A4096DC0> lbfgs                  l1                      False                                        NaN   \n",
       "200                         <function <lambda> at 0x000001B1A4096DC0> lbfgs                  l1                      False                                        NaN   \n",
       "10                          <function <lambda> at 0x000001B1A439A040> lbfgs                  l1                      False                                        NaN   \n",
       "100                         <function <lambda> at 0x000001B1A439A040> lbfgs                  l1                      False                                        NaN   \n",
       "10                          <function <lambda> at 0x000001B1A4096DC0> lbfgs                  elasticnet              True                                         NaN   \n",
       "\n",
       "                                                                                                                                                    split1_test_score  \\\n",
       "param_word2vec__vector_size param_word2vec__vector_combination        param_logistic__solver param_logistic__penalty param_logistic__fit_intercept                      \n",
       "100                         <function <lambda> at 0x000001B1A4096DC0> lbfgs                  l2                      True                                    0.976007   \n",
       "50                          <function <lambda> at 0x000001B1A4096DC0> lbfgs                  l2                      True                                    0.929734   \n",
       "100                         <function <lambda> at 0x000001B1A4096DC0> lbfgs                  l2                      False                                   0.903171   \n",
       "200                         <function <lambda> at 0x000001B1A4096DC0> lbfgs                  l2                      True                                    0.937446   \n",
       "                                                                                                                     False                                   0.869751   \n",
       "...                                                                                                                                                               ...   \n",
       "100                         <function <lambda> at 0x000001B1A4096DC0> lbfgs                  l1                      False                                        NaN   \n",
       "200                         <function <lambda> at 0x000001B1A4096DC0> lbfgs                  l1                      False                                        NaN   \n",
       "10                          <function <lambda> at 0x000001B1A439A040> lbfgs                  l1                      False                                        NaN   \n",
       "100                         <function <lambda> at 0x000001B1A439A040> lbfgs                  l1                      False                                        NaN   \n",
       "10                          <function <lambda> at 0x000001B1A4096DC0> lbfgs                  elasticnet              True                                         NaN   \n",
       "\n",
       "                                                                                                                                                    split2_test_score  \\\n",
       "param_word2vec__vector_size param_word2vec__vector_combination        param_logistic__solver param_logistic__penalty param_logistic__fit_intercept                      \n",
       "100                         <function <lambda> at 0x000001B1A4096DC0> lbfgs                  l2                      True                                    0.961407   \n",
       "50                          <function <lambda> at 0x000001B1A4096DC0> lbfgs                  l2                      True                                    0.928816   \n",
       "100                         <function <lambda> at 0x000001B1A4096DC0> lbfgs                  l2                      False                                   0.901372   \n",
       "200                         <function <lambda> at 0x000001B1A4096DC0> lbfgs                  l2                      True                                    0.851630   \n",
       "                                                                                                                     False                                   0.876501   \n",
       "...                                                                                                                                                               ...   \n",
       "100                         <function <lambda> at 0x000001B1A4096DC0> lbfgs                  l1                      False                                        NaN   \n",
       "200                         <function <lambda> at 0x000001B1A4096DC0> lbfgs                  l1                      False                                        NaN   \n",
       "10                          <function <lambda> at 0x000001B1A439A040> lbfgs                  l1                      False                                        NaN   \n",
       "100                         <function <lambda> at 0x000001B1A439A040> lbfgs                  l1                      False                                        NaN   \n",
       "10                          <function <lambda> at 0x000001B1A4096DC0> lbfgs                  elasticnet              True                                         NaN   \n",
       "\n",
       "                                                                                                                                                    mean_test_score  \\\n",
       "param_word2vec__vector_size param_word2vec__vector_combination        param_logistic__solver param_logistic__penalty param_logistic__fit_intercept                    \n",
       "100                         <function <lambda> at 0x000001B1A4096DC0> lbfgs                  l2                      True                                  0.967427   \n",
       "50                          <function <lambda> at 0x000001B1A4096DC0> lbfgs                  l2                      True                                  0.936569   \n",
       "100                         <function <lambda> at 0x000001B1A4096DC0> lbfgs                  l2                      False                                 0.896858   \n",
       "200                         <function <lambda> at 0x000001B1A4096DC0> lbfgs                  l2                      True                                  0.896273   \n",
       "                                                                                                                     False                                 0.887997   \n",
       "...                                                                                                                                                             ...   \n",
       "100                         <function <lambda> at 0x000001B1A4096DC0> lbfgs                  l1                      False                                      NaN   \n",
       "200                         <function <lambda> at 0x000001B1A4096DC0> lbfgs                  l1                      False                                      NaN   \n",
       "10                          <function <lambda> at 0x000001B1A439A040> lbfgs                  l1                      False                                      NaN   \n",
       "100                         <function <lambda> at 0x000001B1A439A040> lbfgs                  l1                      False                                      NaN   \n",
       "10                          <function <lambda> at 0x000001B1A4096DC0> lbfgs                  elasticnet              True                                       NaN   \n",
       "\n",
       "                                                                                                                                                    std_test_score  \\\n",
       "param_word2vec__vector_size param_word2vec__vector_combination        param_logistic__solver param_logistic__penalty param_logistic__fit_intercept                   \n",
       "100                         <function <lambda> at 0x000001B1A4096DC0> lbfgs                  l2                      True                                 0.006229   \n",
       "50                          <function <lambda> at 0x000001B1A4096DC0> lbfgs                  l2                      True                                 0.010322   \n",
       "100                         <function <lambda> at 0x000001B1A4096DC0> lbfgs                  l2                      False                                0.007690   \n",
       "200                         <function <lambda> at 0x000001B1A4096DC0> lbfgs                  l2                      True                                 0.035120   \n",
       "                                                                                                                     False                                0.021210   \n",
       "...                                                                                                                                                            ...   \n",
       "100                         <function <lambda> at 0x000001B1A4096DC0> lbfgs                  l1                      False                                     NaN   \n",
       "200                         <function <lambda> at 0x000001B1A4096DC0> lbfgs                  l1                      False                                     NaN   \n",
       "10                          <function <lambda> at 0x000001B1A439A040> lbfgs                  l1                      False                                     NaN   \n",
       "100                         <function <lambda> at 0x000001B1A439A040> lbfgs                  l1                      False                                     NaN   \n",
       "10                          <function <lambda> at 0x000001B1A4096DC0> lbfgs                  elasticnet              True                                      NaN   \n",
       "\n",
       "                                                                                                                                                    rank_test_score  \n",
       "param_word2vec__vector_size param_word2vec__vector_combination        param_logistic__solver param_logistic__penalty param_logistic__fit_intercept                   \n",
       "100                         <function <lambda> at 0x000001B1A4096DC0> lbfgs                  l2                      True                                         1  \n",
       "50                          <function <lambda> at 0x000001B1A4096DC0> lbfgs                  l2                      True                                         2  \n",
       "100                         <function <lambda> at 0x000001B1A4096DC0> lbfgs                  l2                      False                                        3  \n",
       "200                         <function <lambda> at 0x000001B1A4096DC0> lbfgs                  l2                      True                                         4  \n",
       "                                                                                                                     False                                        5  \n",
       "...                                                                                                                                                             ...  \n",
       "100                         <function <lambda> at 0x000001B1A4096DC0> lbfgs                  l1                      False                                       92  \n",
       "200                         <function <lambda> at 0x000001B1A4096DC0> lbfgs                  l1                      False                                       93  \n",
       "10                          <function <lambda> at 0x000001B1A439A040> lbfgs                  l1                      False                                       94  \n",
       "100                         <function <lambda> at 0x000001B1A439A040> lbfgs                  l1                      False                                       95  \n",
       "10                          <function <lambda> at 0x000001B1A4096DC0> lbfgs                  elasticnet              True                                        96  \n",
       "\n",
       "[96 rows x 11 columns]"
      ]
     },
     "execution_count": 104,
     "metadata": {},
     "output_type": "execute_result"
    }
   ],
   "source": [
    "cvresults['logistic.word2vec']"
   ]
  },
  {
   "cell_type": "code",
   "execution_count": 105,
   "metadata": {},
   "outputs": [
    {
     "name": "stdout",
     "output_type": "stream",
     "text": [
      "Usando score = 'accuracy'\n",
      "\n",
      "Resultados para modelo 'logistic' com transformer 'word2vec':\n",
      "     Score 'accuracy' original: 0.9526666666666667\n",
      "    Score 'accuracy' otimizado: 0.9674268513333363\n",
      "                      Melhoria: 1.549%\n",
      "\n",
      "Resultados para modelo 'random_forest' com transformer 'word2vec':\n",
      "     Score 'accuracy' original: 0.8526666666666667\n",
      "    Score 'accuracy' otimizado: 0.8957168816750715\n",
      "                      Melhoria: 5.049%\n",
      "\n"
     ]
    }
   ],
   "source": [
    "from sklearn.metrics import SCORERS\n",
    "\n",
    "fscore = SCORERS[nome_score]\n",
    "\n",
    "print(f\"Usando score = '{nome_score}'\\n\")\n",
    "\n",
    "best_scores = { nome_modelo: searcher.best_score_ for nome_modelo, seacher in searchers.items() }\n",
    "\n",
    "for nome_modelo in nomes_modelos:\n",
    "    nome_estimador, nome_transformer = nome_modelo.split('.')\n",
    "    modelo = pipelines[nome_pipeline]\n",
    "\n",
    "    print(f\"Resultados para modelo '{nome_estimador}' com transformer '{nome_transformer}':\")\n",
    "    score_original = fscore(\n",
    "        estimator = pipelines[nome_modelo],\n",
    "        X = X_test,\n",
    "        y_true = y_test,\n",
    "    )\n",
    "    score_otimizado = cvresults[nome_modelo].iloc[0]['mean_test_score']\n",
    "\n",
    "    if nome_score.startswith('neg'):\n",
    "        melhoria = score_original / score_otimizado - 1\n",
    "    else:\n",
    "        melhoria = score_otimizado / score_original - 1\n",
    "\n",
    "    frase_score_orig = f\"Score '{nome_score}' original\"\n",
    "    frase_score_opt = f\"Score '{nome_score}' otimizado\"\n",
    "    frase_melhoria = 'Melhoria'\n",
    "\n",
    "    ncaract = len(frase_score_opt) + 4\n",
    "\n",
    "    print(f\"{frase_score_orig:>{ncaract}s}: {score_original:}\")\n",
    "    print(f\"{frase_score_opt:>{ncaract}s}: {score_otimizado:}\")\n",
    "    print(f\"{frase_melhoria:>{ncaract}s}: {melhoria:.3%}\")\n",
    "    print('')\n"
   ]
  },
  {
   "cell_type": "code",
   "execution_count": null,
   "metadata": {},
   "outputs": [],
   "source": []
  }
 ],
 "metadata": {
  "interpreter": {
   "hash": "042e8b181f7a654ab04b43e4c16105a209d78a4c994215d11e51fd97fdddcfc1"
  },
  "kernelspec": {
   "display_name": "Python 3.9.7 64-bit ('sentiment_analysis_twitter': conda)",
   "language": "python",
   "name": "python3"
  },
  "language_info": {
   "codemirror_mode": {
    "name": "ipython",
    "version": 3
   },
   "file_extension": ".py",
   "mimetype": "text/x-python",
   "name": "python",
   "nbconvert_exporter": "python",
   "pygments_lexer": "ipython3",
   "version": "3.9.7"
  },
  "orig_nbformat": 4
 },
 "nbformat": 4,
 "nbformat_minor": 2
}
